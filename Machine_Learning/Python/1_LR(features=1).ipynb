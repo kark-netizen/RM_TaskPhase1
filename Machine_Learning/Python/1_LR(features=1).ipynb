{
 "cells": [
  {
   "cell_type": "code",
   "execution_count": 1,
   "id": "0c13071b",
   "metadata": {},
   "outputs": [],
   "source": [
    "import pandas as pd\n",
    "import numpy as np\n",
    "from matplotlib import pyplot as plt\n"
   ]
  },
  {
   "cell_type": "code",
   "execution_count": 15,
   "id": "ff1112d4",
   "metadata": {},
   "outputs": [],
   "source": [
    "def plotDataPoints(X,y):\n",
    "    plt.scatter(X,y,marker=\"o\")#use plt.scatter to plot data points and not full lines connecting them.\n",
    "    plt.xlabel(\"Pressure of a Gas\")\n",
    "    plt.ylabel(\"Temperature of a Gas\")\n",
    "    plt.title(\"P vs T curve\")\n",
    "    plt.show()"
   ]
  },
  {
   "cell_type": "code",
   "execution_count": 37,
   "id": "837c9379",
   "metadata": {},
   "outputs": [],
   "source": [
    "def getData():\n",
    "    X = np.array([0, 1, 2, 3, 4, 5, 6, 7, 8, 9])#manually entering data for now\n",
    "    y = np.array([1, 3, 2, 5, 7, 8, 8, 9, 10, 12])\n",
    "    return [X,y]"
   ]
  },
  {
   "cell_type": "code",
   "execution_count": 38,
   "id": "ea4b91fe",
   "metadata": {},
   "outputs": [],
   "source": [
    "def estimate_coef(X,y):\n",
    "    m=np.size(X) #number of training sets\n",
    "    m_X=np.mean(X)\n",
    "    m_y=np.mean(y) #calculated means\n",
    "    SS_Xy=np.sum(y*X)-m*m_X*m_y #y*X multiplies elements individually (not matrix)\n",
    "    SS_XX=np.sum(X*X)-m*m_X*m_X\n",
    "    b=np.array((2,1))\n",
    "    b[1]=SS_Xy/SS_XX\n",
    "    b[0]=m_y-b[1]*m_X\n",
    "    return b"
   ]
  },
  {
   "cell_type": "code",
   "execution_count": 39,
   "id": "77d84ea6",
   "metadata": {},
   "outputs": [],
   "source": [
    "def main():\n",
    "    [X,y]=getData()\n",
    "    plotDataPoints(X,y)\n",
    "    b=np.array([0,0],np.int32)\n",
    "    b=estimate_coef(X,y)\n",
    "    X_pred=15\n",
    "    y_pred=b[0]+X_pred*b[1]\n",
    "    print(y_pred)\n",
    "    plotRegressionLine(X,y,b)"
   ]
  },
  {
   "cell_type": "code",
   "execution_count": 40,
   "id": "47ac2edd",
   "metadata": {},
   "outputs": [],
   "source": [
    "def plotRegressionLine(X,y,b):\n",
    "    y_pred=b[0]+b[1]*X\n",
    "    plt.scatter(X,y,marker=\"o\",color=\"r\")#use plt.scatter to plot data points and not full lines connecting them.\n",
    "    plt.xlabel(\"Pressure of a Gas\")\n",
    "    plt.ylabel(\"Temperature of a Gas\")\n",
    "    plt.title(\"P vs T curve\")\n",
    "    plt.plot(X,y_pred)\n",
    "    plt.show()"
   ]
  },
  {
   "cell_type": "code",
   "execution_count": 41,
   "id": "0071ffbc",
   "metadata": {},
   "outputs": [
    {
     "data": {
      "image/png": "[encoded data removed]",
      "text/plain": [
       "<Figure size 432x288 with 1 Axes>"
      ]
     },
     "metadata": {
      "needs_background": "light"
     },
     "output_type": "display_data"
    },
    {
     "name": "stdout",
     "output_type": "stream",
     "text": [
      "17\n"
     ]
    },
    {
     "data": {
      "image/png": "[encoded data removed]",
      "text/plain": [
       "<Figure size 432x288 with 1 Axes>"
      ]
     },
     "metadata": {
      "needs_background": "light"
     },
     "output_type": "display_data"
    }
   ],
   "source": [
    "main()"
   ]
  },
  {
   "cell_type": "code",
   "execution_count": null,
   "id": "b43186d6",
   "metadata": {},
   "outputs": [],
   "source": []
  },
  {
   "cell_type": "code",
   "execution_count": null,
   "id": "d03448e4",
   "metadata": {},
   "outputs": [],
   "source": []
  },
  {
   "cell_type": "code",
   "execution_count": null,
   "id": "acab1f8d",
   "metadata": {},
   "outputs": [],
   "source": []
  }
 ],
 "metadata": {
  "kernelspec": {
   "display_name": "Python 3",
   "language": "python",
   "name": "python3"
  },
  "language_info": {
   "codemirror_mode": {
    "name": "ipython",
    "version": 3
   },
   "file_extension": ".py",
   "mimetype": "text/x-python",
   "name": "python",
   "nbconvert_exporter": "python",
   "pygments_lexer": "ipython3",
   "version": "3.8.7"
  }
 },
 "nbformat": 4,
 "nbformat_minor": 5
}
